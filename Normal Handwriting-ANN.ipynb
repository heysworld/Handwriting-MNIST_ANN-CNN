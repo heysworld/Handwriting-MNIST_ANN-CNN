{
 "cells": [
  {
   "cell_type": "code",
   "execution_count": 13,
   "metadata": {},
   "outputs": [],
   "source": [
    "import tensorflow as tf\n",
    "import numpy as np\n",
    "from tensorflow import keras\n",
    "import pandas as pd\n",
    "import matplotlib.pyplot as plt\n",
    "from sklearn.model_selection import train_test_split"
   ]
  },
  {
   "cell_type": "code",
   "execution_count": 2,
   "metadata": {},
   "outputs": [],
   "source": [
    "# data load\n",
    "df = pd.read_csv('train.csv')"
   ]
  },
  {
   "cell_type": "code",
   "execution_count": 3,
   "metadata": {},
   "outputs": [
    {
     "data": {
      "text/plain": [
       "1    6742\n",
       "7    6265\n",
       "3    6131\n",
       "2    5958\n",
       "9    5949\n",
       "0    5923\n",
       "6    5918\n",
       "8    5851\n",
       "4    5842\n",
       "5    5421\n",
       "Name: label, dtype: int64"
      ]
     },
     "execution_count": 3,
     "metadata": {},
     "output_type": "execute_result"
    }
   ],
   "source": [
    "df['label'].value_counts()"
   ]
  },
  {
   "cell_type": "code",
   "execution_count": 4,
   "metadata": {},
   "outputs": [],
   "source": [
    "# data preprocessing\n",
    "df.drop(['index'], axis=1, inplace=True)"
   ]
  },
  {
   "cell_type": "code",
   "execution_count": 5,
   "metadata": {},
   "outputs": [],
   "source": [
    "# train, test split\n",
    "X = df.drop(['label'], axis = 1)\n",
    "y = df['label']\n",
    "\n",
    "X_train , X_test , y_train , y_test = train_test_split(X, y,\n",
    "                                                       test_size=0.2,  random_state=156)"
   ]
  },
  {
   "cell_type": "code",
   "execution_count": 6,
   "metadata": {},
   "outputs": [
    {
     "name": "stdout",
     "output_type": "stream",
     "text": [
      "(48000, 784)\n",
      "(12000, 784)\n",
      "(48000,)\n",
      "(12000,)\n"
     ]
    }
   ],
   "source": [
    "print(X_train.shape)\n",
    "print(X_test.shape)\n",
    "print(y_train.shape)\n",
    "print(y_test.shape)"
   ]
  },
  {
   "cell_type": "code",
   "execution_count": 7,
   "metadata": {},
   "outputs": [],
   "source": [
    "y_train = np.asarray(y_train[:48000])\n",
    "y_test = np.asarray(y_test[:12000])\n",
    "X_train = np.asarray(X_train[:48000] / 255.0)\n",
    "X_test = np.asarray(X_test[:12000] / 255.0)"
   ]
  },
  {
   "cell_type": "code",
   "execution_count": 8,
   "metadata": {},
   "outputs": [],
   "source": [
    "# 모델 구축\n",
    "model = tf.keras.models.Sequential([\n",
    "    tf.keras.layers.Dense(256,input_shape = (784,),activation = 'relu'),\n",
    "    tf.keras.layers.Dropout(0.3),\n",
    "    tf.keras.layers.Dense(256,activation = 'relu'),\n",
    "    tf.keras.layers.Dropout(0.3),\n",
    "    tf.keras.layers.Dense(256,activation = 'relu'),\n",
    "    tf.keras.layers.Dropout(0.3),\n",
    "    tf.keras.layers.Dense(10,activation = 'softmax')])\n",
    "\n",
    "model.summary()"
   ]
  },
  {
   "cell_type": "code",
   "execution_count": 9,
   "metadata": {},
   "outputs": [],
   "source": [
    "# 모델 컴파일\n",
    "model.compile(tf.keras.optimizers.Adam(lr=0.0001),\n",
    "             loss='sparse_categorical_crossentropy',\n",
    "             metrics=['accuracy'])"
   ]
  },
  {
   "cell_type": "code",
   "execution_count": 10,
   "metadata": {},
   "outputs": [
    {
     "name": "stdout",
     "output_type": "stream",
     "text": [
      "Epoch 1/30\n",
      "750/750 [==============================] - 2s 3ms/step - loss: 0.8899 - accuracy: 0.7220 - val_loss: 0.3015 - val_accuracy: 0.9129\n",
      "Epoch 2/30\n",
      "750/750 [==============================] - 2s 2ms/step - loss: 0.3624 - accuracy: 0.8909 - val_loss: 0.2119 - val_accuracy: 0.9369\n",
      "Epoch 3/30\n",
      "750/750 [==============================] - 2s 2ms/step - loss: 0.2737 - accuracy: 0.9184 - val_loss: 0.1725 - val_accuracy: 0.9473\n",
      "Epoch 4/30\n",
      "750/750 [==============================] - 2s 2ms/step - loss: 0.2231 - accuracy: 0.9341 - val_loss: 0.1477 - val_accuracy: 0.9542\n",
      "Epoch 5/30\n",
      "750/750 [==============================] - 2s 2ms/step - loss: 0.1900 - accuracy: 0.9434 - val_loss: 0.1297 - val_accuracy: 0.9597\n",
      "Epoch 6/30\n",
      "750/750 [==============================] - 2s 3ms/step - loss: 0.1649 - accuracy: 0.9504 - val_loss: 0.1178 - val_accuracy: 0.9639\n",
      "Epoch 7/30\n",
      "750/750 [==============================] - 2s 2ms/step - loss: 0.1472 - accuracy: 0.9551 - val_loss: 0.1070 - val_accuracy: 0.9659\n",
      "Epoch 8/30\n",
      "750/750 [==============================] - 2s 2ms/step - loss: 0.1324 - accuracy: 0.9599 - val_loss: 0.1004 - val_accuracy: 0.9685\n",
      "Epoch 9/30\n",
      "750/750 [==============================] - 2s 3ms/step - loss: 0.1196 - accuracy: 0.9634 - val_loss: 0.0966 - val_accuracy: 0.9701\n",
      "Epoch 10/30\n",
      "750/750 [==============================] - 2s 2ms/step - loss: 0.1102 - accuracy: 0.9657 - val_loss: 0.0910 - val_accuracy: 0.9719\n",
      "Epoch 11/30\n",
      "750/750 [==============================] - 2s 2ms/step - loss: 0.0998 - accuracy: 0.9692 - val_loss: 0.0871 - val_accuracy: 0.9737\n",
      "Epoch 12/30\n",
      "750/750 [==============================] - 2s 2ms/step - loss: 0.0901 - accuracy: 0.9721 - val_loss: 0.0863 - val_accuracy: 0.9741\n",
      "Epoch 13/30\n",
      "750/750 [==============================] - 2s 3ms/step - loss: 0.0878 - accuracy: 0.9729 - val_loss: 0.0795 - val_accuracy: 0.9752\n",
      "Epoch 14/30\n",
      "750/750 [==============================] - 2s 2ms/step - loss: 0.0797 - accuracy: 0.9755 - val_loss: 0.0795 - val_accuracy: 0.9764\n",
      "Epoch 15/30\n",
      "750/750 [==============================] - 2s 2ms/step - loss: 0.0751 - accuracy: 0.9770 - val_loss: 0.0805 - val_accuracy: 0.9754\n",
      "Epoch 16/30\n",
      "750/750 [==============================] - 2s 2ms/step - loss: 0.0714 - accuracy: 0.9771 - val_loss: 0.0745 - val_accuracy: 0.9779\n",
      "Epoch 17/30\n",
      "750/750 [==============================] - 2s 3ms/step - loss: 0.0672 - accuracy: 0.9786 - val_loss: 0.0740 - val_accuracy: 0.9781\n",
      "Epoch 18/30\n",
      "750/750 [==============================] - 2s 2ms/step - loss: 0.0626 - accuracy: 0.9800 - val_loss: 0.0749 - val_accuracy: 0.9776\n",
      "Epoch 19/30\n",
      "750/750 [==============================] - 2s 3ms/step - loss: 0.0587 - accuracy: 0.9809 - val_loss: 0.0750 - val_accuracy: 0.9779\n",
      "Epoch 20/30\n",
      "750/750 [==============================] - 2s 2ms/step - loss: 0.0545 - accuracy: 0.9833 - val_loss: 0.0737 - val_accuracy: 0.9787\n",
      "Epoch 21/30\n",
      "750/750 [==============================] - 2s 2ms/step - loss: 0.0522 - accuracy: 0.9835 - val_loss: 0.0732 - val_accuracy: 0.9783\n",
      "Epoch 22/30\n",
      "750/750 [==============================] - 2s 2ms/step - loss: 0.0489 - accuracy: 0.9845 - val_loss: 0.0746 - val_accuracy: 0.9785\n",
      "Epoch 23/30\n",
      "750/750 [==============================] - 2s 2ms/step - loss: 0.0476 - accuracy: 0.9848 - val_loss: 0.0738 - val_accuracy: 0.9789\n",
      "Epoch 24/30\n",
      "750/750 [==============================] - 2s 2ms/step - loss: 0.0432 - accuracy: 0.9866 - val_loss: 0.0717 - val_accuracy: 0.9790\n",
      "Epoch 25/30\n",
      "750/750 [==============================] - 2s 2ms/step - loss: 0.0422 - accuracy: 0.9862 - val_loss: 0.0743 - val_accuracy: 0.9799\n",
      "Epoch 26/30\n",
      "750/750 [==============================] - 2s 2ms/step - loss: 0.0410 - accuracy: 0.9863 - val_loss: 0.0722 - val_accuracy: 0.9796\n",
      "Epoch 27/30\n",
      "750/750 [==============================] - 2s 2ms/step - loss: 0.0393 - accuracy: 0.9872 - val_loss: 0.0747 - val_accuracy: 0.9799\n",
      "Epoch 28/30\n",
      "750/750 [==============================] - 2s 3ms/step - loss: 0.0380 - accuracy: 0.9874 - val_loss: 0.0752 - val_accuracy: 0.9803\n",
      "Epoch 29/30\n",
      "750/750 [==============================] - 2s 2ms/step - loss: 0.0344 - accuracy: 0.9887 - val_loss: 0.0782 - val_accuracy: 0.9794\n",
      "Epoch 30/30\n",
      "750/750 [==============================] - 2s 2ms/step - loss: 0.0329 - accuracy: 0.9891 - val_loss: 0.0724 - val_accuracy: 0.9807\n"
     ]
    }
   ],
   "source": [
    "# 모델 훈련\n",
    "history = model.fit(X_train, y_train,\n",
    "                    batch_size=64,\n",
    "                    epochs=30,\n",
    "                    validation_data=(X_test, y_test))"
   ]
  },
  {
   "cell_type": "code",
   "execution_count": 11,
   "metadata": {},
   "outputs": [
    {
     "name": "stdout",
     "output_type": "stream",
     "text": [
      "375/375 - 0s - loss: 0.0724 - accuracy: 0.9807\n",
      "정확도:98.07%\n"
     ]
    }
   ],
   "source": [
    "# 모델 평가\n",
    "loc, acc = model.evaluate(X_test, y_test, verbose=2)\n",
    "print('정확도:{:5.2f}%'.format(acc*100))"
   ]
  },
  {
   "cell_type": "code",
   "execution_count": 14,
   "metadata": {},
   "outputs": [
    {
     "data": {
      "image/png": "[encoded data removed]",
      "text/plain": [
       "<Figure size 432x288 with 1 Axes>"
      ]
     },
     "metadata": {
      "needs_background": "light"
     },
     "output_type": "display_data"
    },
    {
     "data": {
      "image/png": "[encoded data removed]",
      "text/plain": [
       "<Figure size 432x288 with 1 Axes>"
      ]
     },
     "metadata": {
      "needs_background": "light"
     },
     "output_type": "display_data"
    }
   ],
   "source": [
    "def plot_loss(history):\n",
    "    # summarize history for loss\n",
    "    plt.plot(history.history['loss'])\n",
    "    plt.plot(history.history['val_loss'])\n",
    "    plt.title('Model Loss')\n",
    "    plt.ylabel('Loss')\n",
    "    plt.xlabel('Epoch')\n",
    "    plt.legend(['Train', 'Test'], loc=0)\n",
    "\n",
    "def plot_acc(history):\n",
    "    # summarize history for accuracy\n",
    "    plt.plot(history.history['accuracy'])\n",
    "    plt.plot(history.history['val_accuracy'])\n",
    "    plt.title('Model accuracy')\n",
    "    plt.ylabel('Accuracy')\n",
    "    plt.xlabel('Epoch')\n",
    "    plt.legend(['Train', 'Test'], loc=0)\n",
    "\n",
    "plot_loss(history)\n",
    "plt.show()\n",
    "plot_acc(history)\n",
    "plt.show()"
   ]
  },
  {
   "cell_type": "code",
   "execution_count": 15,
   "metadata": {},
   "outputs": [],
   "source": [
    "# test, submission file load\n",
    "test = pd.read_csv('test.csv')\n",
    "sub = pd.read_csv('sample_submission.csv')"
   ]
  },
  {
   "cell_type": "code",
   "execution_count": 16,
   "metadata": {},
   "outputs": [],
   "source": [
    "test.drop(['index'], axis=1, inplace=True)"
   ]
  },
  {
   "cell_type": "code",
   "execution_count": 17,
   "metadata": {},
   "outputs": [
    {
     "name": "stdout",
     "output_type": "stream",
     "text": [
      "WARNING:tensorflow:From <ipython-input-17-7b202220aa66>:2: Sequential.predict_classes (from tensorflow.python.keras.engine.sequential) is deprecated and will be removed after 2021-01-01.\n",
      "Instructions for updating:\n",
      "Please use instead:* `np.argmax(model.predict(x), axis=-1)`,   if your model does multi-class classification   (e.g. if it uses a `softmax` last-layer activation).* `(model.predict(x) > 0.5).astype(\"int32\")`,   if your model does binary classification   (e.g. if it uses a `sigmoid` last-layer activation).\n"
     ]
    },
    {
     "data": {
      "text/plain": [
       "array([7, 2, 1, ..., 4, 5, 6])"
      ]
     },
     "execution_count": 17,
     "metadata": {},
     "output_type": "execute_result"
    }
   ],
   "source": [
    "# 실 데이터 예측\n",
    "pred = model.predict_classes(test)\n",
    "pred"
   ]
  },
  {
   "cell_type": "code",
   "execution_count": 18,
   "metadata": {},
   "outputs": [
    {
     "data": {
      "text/plain": [
       "0       7\n",
       "1       2\n",
       "2       1\n",
       "3       0\n",
       "4       4\n",
       "       ..\n",
       "9995    2\n",
       "9996    3\n",
       "9997    4\n",
       "9998    5\n",
       "9999    6\n",
       "Name: label, Length: 10000, dtype: int64"
      ]
     },
     "execution_count": 18,
     "metadata": {},
     "output_type": "execute_result"
    }
   ],
   "source": [
    "sub['label'] = pred\n",
    "sub['label']"
   ]
  },
  {
   "cell_type": "code",
   "execution_count": 19,
   "metadata": {},
   "outputs": [],
   "source": [
    "sub.to_csv(\"sub.csv\", index=False)"
   ]
  }
 ],
 "metadata": {
  "kernelspec": {
   "display_name": "Python 3",
   "language": "python",
   "name": "python3"
  },
  "language_info": {
   "codemirror_mode": {
    "name": "ipython",
    "version": 3
   },
   "file_extension": ".py",
   "mimetype": "text/x-python",
   "name": "python",
   "nbconvert_exporter": "python",
   "pygments_lexer": "ipython3",
   "version": "3.8.3"
  }
 },
 "nbformat": 4,
 "nbformat_minor": 4
}
